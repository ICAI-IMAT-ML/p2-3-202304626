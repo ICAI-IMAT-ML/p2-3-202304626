{
 "cells": [
  {
   "cell_type": "markdown",
   "metadata": {
    "id": "WRWNAO0lh2rd"
   },
   "source": [
    "# Laboratory 2.3: Linear Regression\n",
    "\n",
    "In this practice you will build your own Linear Regression model. As you _should_ remember, we have seen in class how to obtain the optimal values for the parameters in a linear regression model. If you need to refresh your memory, check the slides from theory for the formula for the model optimization.\n",
    "\n",
    "For the final part of this practice you will also need the following dataset:\n",
    "- **winequality.csv**: Dataset with several input variables and a continuous output variable to determine wine quality. You can get more information from the [original repository](https://archive.ics.uci.edu/dataset/186/wine+quality).\n",
    "\n",
    "\n",
    "In addition, we will be using the following libraries:\n",
    "- Data management:\n",
    "    - [numpy](https://numpy.org/)\n",
    "    - [pandas](https://pandas.pydata.org/)\n",
    "- Modelling:\n",
    "    - [scikit-learn](https://scikit-learn.org)\n",
    "- Plotting:\n",
    "    - [seaborn](https://seaborn.pydata.org/)\n",
    "    - [matplotlib](https://matplotlib.org/)"
   ]
  },
  {
   "cell_type": "code",
   "execution_count": 63,
   "metadata": {
    "id": "NnJnexJ7h2rd"
   },
   "outputs": [],
   "source": [
    "# Import here whatever you may need\n",
    "import numpy as np\n",
    "import sys\n",
    "import os\n",
    "\n",
    "# Get the absolute path of the project root\n",
    "project_root = os.path.abspath(os.path.join(os.getcwd(), \"..\"))\n",
    "\n",
    "# Add it to sys.path\n",
    "sys.path.insert(0, project_root)\n",
    "\n",
    "from src.lab_2_3_LinearRegression import LinearRegressor, evaluate_regression, sklearn_comparison, anscombe_quartet"
   ]
  },
  {
   "cell_type": "code",
   "execution_count": 64,
   "metadata": {
    "id": "dqSxkSEch2rd"
   },
   "outputs": [],
   "source": [
    "# Define data to use in this practice\n",
    "x = np.array([0, 3, 2, 1, 4, 6, 7, 8, 9, 10])\n",
    "y = np.array([2, 3, 2, 4, 5, 7, 9, 9, 10, 13])"
   ]
  },
  {
   "cell_type": "code",
   "execution_count": 65,
   "metadata": {
    "id": "RiTr7qgth2re"
   },
   "outputs": [],
   "source": [
    "### Train your linear regression model\n",
    "linreg = LinearRegressor()\n",
    "linreg.fit_simple(x, y)  # le estamos pasando vectores de una sola dimensión (por eso fit_simple)"
   ]
  },
  {
   "cell_type": "code",
   "execution_count": 66,
   "metadata": {
    "id": "7c6oHr-eh2re"
   },
   "outputs": [
    {
     "name": "stdout",
     "output_type": "stream",
     "text": [
      "{'R2': 0.9201359388275275, 'RMSE': 1.0126472956832235, 'MAE': 0.894545454545455}\n"
     ]
    }
   ],
   "source": [
    "# Obtain regression performance metrics\n",
    "y_pred = linreg.predict(x)\n",
    "evaluation_metrics = evaluate_regression(y, y_pred)\n",
    "print(evaluation_metrics)"
   ]
  },
  {
   "cell_type": "markdown",
   "metadata": {
    "id": "x8TlfJHwh2re"
   },
   "source": [
    "### Scikit-Learn comparison"
   ]
  },
  {
   "cell_type": "code",
   "execution_count": 67,
   "metadata": {
    "id": "TbJDCd7Zh2re"
   },
   "outputs": [
    {
     "name": "stdout",
     "output_type": "stream",
     "text": [
      "Custom Model Coefficient: 1.0363636363636364\n",
      "Custom Model Intercept: 1.2181818181818187\n",
      "Scikit-Learn Coefficient: 1.036363636363637\n",
      "Scikit-Learn Intercept: 1.2181818181818151\n"
     ]
    },
    {
     "data": {
      "text/plain": [
       "{'custom_coefficient': 1.0363636363636364,\n",
       " 'custom_intercept': 1.2181818181818187,\n",
       " 'sklearn_coefficient': 1.036363636363637,\n",
       " 'sklearn_intercept': 1.2181818181818151}"
      ]
     },
     "execution_count": 67,
     "metadata": {},
     "output_type": "execute_result"
    }
   ],
   "source": [
    "### Compare your model with sklearn linear regression model\n",
    "sklearn_comparison(x, y, linreg)\n"
   ]
  },
  {
   "cell_type": "markdown",
   "metadata": {
    "id": "k5sazRaSh2rf"
   },
   "source": [
    "### Anscombe's quartet"
   ]
  },
  {
   "cell_type": "code",
   "execution_count": 68,
   "metadata": {
    "id": "REHUOe_6h2rf"
   },
   "outputs": [
    {
     "name": "stdout",
     "output_type": "stream",
     "text": [
      "Dataset I: Coefficient: 0.500090909090911, Intercept: 3.0000909090908934\n",
      "R2: 0.6665424595087749, RMSE: 1.1185497916336298, MAE: 0.837404958677687\n",
      "Dataset II: Coefficient: 0.500000000000001, Intercept: 3.000909090909081\n",
      "R2: 0.6662420337274843, RMSE: 1.1191023557497448, MAE: 0.9679338842975211\n",
      "Dataset III: Coefficient: 0.49972727272727197, Intercept: 3.002454545454552\n",
      "R2: 0.6663240410665592, RMSE: 1.118285693623049, MAE: 0.7159669421487593\n",
      "Dataset IV: Coefficient: 0.49990909090909097, Intercept: 3.0017272727272735\n",
      "R2: 0.6667072568984653, RMSE: 1.1177286221293936, MAE: 0.902727272727273\n"
     ]
    }
   ],
   "source": [
    "import seaborn as sns\n",
    "import matplotlib.pyplot as plt\n",
    "\n",
    "anscombe, datasets, models, result = anscombe_quartet()"
   ]
  },
  {
   "cell_type": "markdown",
   "metadata": {
    "id": "LeRgTSk7oA4D"
   },
   "source": [
    "**Questions:** What do you think about the fit? Do you notice something? Comment it here below:\n",
    "\n",
    "\n",
    "\n",
    "**Answer:** Como hemos visto en clase, el Cuarteto de Anscombe consta de cuatro datasets diseñados para tener propiedades estadísticas similares (como media, varianza, y coeficientes de regresión) pero patrones visuales muy diferentes, resaltando la importancia de graficar los datos.\n",
    "\n",
    "Se puede apreciar que tras el ajuste, los 4 datasets tienen parámetros muy parecidos, aunque no iguales del todo. En concreto el coeficiente \"w\" tiene un valor próximo a 0.5, mientras que el intercept o término independiente \"b\" tiene un valor cercano a 3. \n",
    "\n",
    "Además, los valores de R2 y RMSE son bastante similares también entre los 4 conjuntos de datos, siendo sus valores aproximadamente 0.66 y 1.11 respectivamente.\n",
    "\n",
    "Sin embargo, en el caso del MAE, el valor de cada dataset es ligeramente distinto y la diferencia se aprecia más que con el resto de métricas que hemos comentado. Para los datasets 1,2,3 y 4 observamos valores de aproximadamente 0.84, 0.97, 0.72 y 0.90 respectivamente. \n",
    "\n",
    "Podemos destacar que el MAE es más sensible a diferencias absolutas que otras métricas como el RMSE, y que el parámetro R2 no necesariamente refleja si el modelo es apropiado y se ha hecho bien el ajuste, especialmente en presencia de outliers o relaciones no lineales, como es el caso en el Cuarteto de Anscombe."
   ]
  },
  {
   "cell_type": "markdown",
   "metadata": {
    "id": "Be1xl2N6oUXm"
   },
   "source": [
    "\n",
    "Once all models are trained (one for each dataset), we will plot the results of the fit alongside each point set"
   ]
  },
  {
   "cell_type": "code",
   "execution_count": 69,
   "metadata": {},
   "outputs": [
    {
     "name": "stdout",
     "output_type": "stream",
     "text": [
      "<src.lab_2_3_LinearRegression.LinearRegressor object at 0x0000026F41505460>\n"
     ]
    }
   ],
   "source": [
    "# print(datasets) # ['I' 'II' 'III' 'IV']\n",
    "# print(anscombe)  # dataframe con identificador en la columna \"dataset\" para diferenciar entre los 4 conjuntos\n",
    "print(models['I'])\n",
    "# print(result)  # estadísticas sobre R2, RMSE, MAE"
   ]
  },
  {
   "cell_type": "code",
   "execution_count": 70,
   "metadata": {
    "id": "NXxbgbrNh2rf"
   },
   "outputs": [
    {
     "data": {
      "image/png": "[encoded data removed]",
      "text/plain": [
       "<Figure size 1000x1000 with 4 Axes>"
      ]
     },
     "metadata": {},
     "output_type": "display_data"
    }
   ],
   "source": [
    "# Visualizing the datasets with their regression lines\n",
    "fig, axs = plt.subplots(2, 2, figsize=(10, 10))\n",
    "axs = axs.flatten()\n",
    "\n",
    "for i, dataset in enumerate(datasets):\n",
    "\n",
    "    # TODO: Select the dataset for each case\n",
    "    data = anscombe.loc[anscombe[\"dataset\"] == dataset]\n",
    "    axs[i].scatter(data['x'], data['y'], label =\"Datos originales\")\n",
    "\n",
    "    # TODO: Plot the data and the fit (fill the \"None\" value)\n",
    "    predicciones = models[dataset].predict(data[\"x\"])\n",
    "    axs[i].plot(data['x'], predicciones, color='red', label=\"Regresión Lineal\")  # Regression line\n",
    "    axs[i].set_title(f\"Dataset {dataset}\")\n",
    "\n",
    "plt.tight_layout()\n",
    "plt.legend()\n",
    "plt.show()\n"
   ]
  },
  {
   "cell_type": "markdown",
   "metadata": {
    "id": "SYxJ8UW-h2rf"
   },
   "source": [
    "### Multiple variable linear regression"
   ]
  },
  {
   "cell_type": "markdown",
   "metadata": {
    "id": "UAwQHv_Xh2rf"
   },
   "source": [
    "In this section, we are going to use the dataset of the quality of red wines based on chemical measurements. The original dataset can be found in the [UCI Repository](https://archive.ics.uci.edu/dataset/186/wine+quality)."
   ]
  },
  {
   "cell_type": "code",
   "execution_count": 71,
   "metadata": {
    "id": "ry5ENkash2rf"
   },
   "outputs": [
    {
     "data": {
      "text/html": [
       "<div>\n",
       "<style scoped>\n",
       "    .dataframe tbody tr th:only-of-type {\n",
       "        vertical-align: middle;\n",
       "    }\n",
       "\n",
       "    .dataframe tbody tr th {\n",
       "        vertical-align: top;\n",
       "    }\n",
       "\n",
       "    .dataframe thead th {\n",
       "        text-align: right;\n",
       "    }\n",
       "</style>\n",
       "<table border=\"1\" class=\"dataframe\">\n",
       "  <thead>\n",
       "    <tr style=\"text-align: right;\">\n",
       "      <th></th>\n",
       "      <th>fixed acidity</th>\n",
       "      <th>volatile acidity</th>\n",
       "      <th>citric acid</th>\n",
       "      <th>residual sugar</th>\n",
       "      <th>chlorides</th>\n",
       "      <th>free sulfur dioxide</th>\n",
       "      <th>total sulfur dioxide</th>\n",
       "      <th>density</th>\n",
       "      <th>pH</th>\n",
       "      <th>sulphates</th>\n",
       "      <th>alcohol</th>\n",
       "      <th>quality</th>\n",
       "    </tr>\n",
       "  </thead>\n",
       "  <tbody>\n",
       "    <tr>\n",
       "      <th>0</th>\n",
       "      <td>7.4</td>\n",
       "      <td>0.70</td>\n",
       "      <td>0.00</td>\n",
       "      <td>1.9</td>\n",
       "      <td>0.076</td>\n",
       "      <td>11.0</td>\n",
       "      <td>34.0</td>\n",
       "      <td>0.9978</td>\n",
       "      <td>3.51</td>\n",
       "      <td>0.56</td>\n",
       "      <td>9.4</td>\n",
       "      <td>5</td>\n",
       "    </tr>\n",
       "    <tr>\n",
       "      <th>1</th>\n",
       "      <td>7.8</td>\n",
       "      <td>0.88</td>\n",
       "      <td>0.00</td>\n",
       "      <td>2.6</td>\n",
       "      <td>0.098</td>\n",
       "      <td>25.0</td>\n",
       "      <td>67.0</td>\n",
       "      <td>0.9968</td>\n",
       "      <td>3.20</td>\n",
       "      <td>0.68</td>\n",
       "      <td>9.8</td>\n",
       "      <td>5</td>\n",
       "    </tr>\n",
       "    <tr>\n",
       "      <th>2</th>\n",
       "      <td>7.8</td>\n",
       "      <td>0.76</td>\n",
       "      <td>0.04</td>\n",
       "      <td>2.3</td>\n",
       "      <td>0.092</td>\n",
       "      <td>15.0</td>\n",
       "      <td>54.0</td>\n",
       "      <td>0.9970</td>\n",
       "      <td>3.26</td>\n",
       "      <td>0.65</td>\n",
       "      <td>9.8</td>\n",
       "      <td>5</td>\n",
       "    </tr>\n",
       "    <tr>\n",
       "      <th>3</th>\n",
       "      <td>11.2</td>\n",
       "      <td>0.28</td>\n",
       "      <td>0.56</td>\n",
       "      <td>1.9</td>\n",
       "      <td>0.075</td>\n",
       "      <td>17.0</td>\n",
       "      <td>60.0</td>\n",
       "      <td>0.9980</td>\n",
       "      <td>3.16</td>\n",
       "      <td>0.58</td>\n",
       "      <td>9.8</td>\n",
       "      <td>6</td>\n",
       "    </tr>\n",
       "    <tr>\n",
       "      <th>4</th>\n",
       "      <td>7.4</td>\n",
       "      <td>0.70</td>\n",
       "      <td>0.00</td>\n",
       "      <td>1.9</td>\n",
       "      <td>0.076</td>\n",
       "      <td>11.0</td>\n",
       "      <td>34.0</td>\n",
       "      <td>0.9978</td>\n",
       "      <td>3.51</td>\n",
       "      <td>0.56</td>\n",
       "      <td>9.4</td>\n",
       "      <td>5</td>\n",
       "    </tr>\n",
       "  </tbody>\n",
       "</table>\n",
       "</div>"
      ],
      "text/plain": [
       "   fixed acidity  volatile acidity  citric acid  residual sugar  chlorides  \\\n",
       "0            7.4              0.70         0.00             1.9      0.076   \n",
       "1            7.8              0.88         0.00             2.6      0.098   \n",
       "2            7.8              0.76         0.04             2.3      0.092   \n",
       "3           11.2              0.28         0.56             1.9      0.075   \n",
       "4            7.4              0.70         0.00             1.9      0.076   \n",
       "\n",
       "   free sulfur dioxide  total sulfur dioxide  density    pH  sulphates  \\\n",
       "0                 11.0                  34.0   0.9978  3.51       0.56   \n",
       "1                 25.0                  67.0   0.9968  3.20       0.68   \n",
       "2                 15.0                  54.0   0.9970  3.26       0.65   \n",
       "3                 17.0                  60.0   0.9980  3.16       0.58   \n",
       "4                 11.0                  34.0   0.9978  3.51       0.56   \n",
       "\n",
       "   alcohol  quality  \n",
       "0      9.4        5  \n",
       "1      9.8        5  \n",
       "2      9.8        5  \n",
       "3      9.8        6  \n",
       "4      9.4        5  "
      ]
     },
     "execution_count": 71,
     "metadata": {},
     "output_type": "execute_result"
    }
   ],
   "source": [
    "import pandas as pd\n",
    "\n",
    "wine_data = pd.read_csv(\"data/winequality.csv\", sep=';')\n",
    "wine_data.head()"
   ]
  },
  {
   "cell_type": "code",
   "execution_count": 72,
   "metadata": {},
   "outputs": [
    {
     "data": {
      "text/plain": [
       "fixed acidity  volatile acidity  citric acid  residual sugar  chlorides  free sulfur dioxide  total sulfur dioxide  density  pH     sulphates  alcohol  quality\n",
       "False          False             False        False           False      False                False                 False    False  False      False    False      1599\n",
       "Name: count, dtype: int64"
      ]
     },
     "execution_count": 72,
     "metadata": {},
     "output_type": "execute_result"
    }
   ],
   "source": [
    "wine_data.isna().value_counts()  # miramos si hay algún valor faltante"
   ]
  },
  {
   "cell_type": "code",
   "execution_count": null,
   "metadata": {
    "id": "3u0i4Bymh2rf"
   },
   "outputs": [],
   "source": [
    "# Divide dataset between inputs and output\n",
    "inputs = ['fixed acidity', 'volatile acidity', 'citric acid', 'residual sugar',\n",
    "       'chlorides', 'free sulfur dioxide', 'total sulfur dioxide', 'density',\n",
    "       'pH', 'sulphates', 'alcohol']\n",
    "output = 'quality'\n",
    "\n",
    "X = wine_data[inputs]\n",
    "y = wine_data[output]"
   ]
  },
  {
   "cell_type": "code",
   "execution_count": 79,
   "metadata": {},
   "outputs": [],
   "source": [
    "#print(f\"X: {X}\")\n",
    "#print(type(X))  # es un dataframe de pandas\n",
    "#print(f\"Y: {y}\")\n",
    "#print(type(y))  # es una serie de pandas\n"
   ]
  },
  {
   "cell_type": "code",
   "execution_count": 74,
   "metadata": {
    "id": "n2-Whxs7h2rg"
   },
   "outputs": [],
   "source": [
    "# Train multiple regression model\n",
    "linreg_multiple = LinearRegressor()\n",
    "linreg_multiple.fit_multiple(X, y)"
   ]
  },
  {
   "cell_type": "code",
   "execution_count": 75,
   "metadata": {
    "id": "Mc0P6p9Gh2rg"
   },
   "outputs": [
    {
     "name": "stdout",
     "output_type": "stream",
     "text": [
      "{'R2': 0.3605517030386882, 'RMSE': 0.6455750670692045, 'MAE': 0.5004899635951578}\n"
     ]
    }
   ],
   "source": [
    "# Obtain regression performance metrics\n",
    "y_pred = linreg_multiple.predict(X)\n",
    "evaluation_metrics = evaluate_regression(y, y_pred)\n",
    "print(evaluation_metrics)"
   ]
  },
  {
   "cell_type": "code",
   "execution_count": 88,
   "metadata": {},
   "outputs": [
    {
     "name": "stdout",
     "output_type": "stream",
     "text": [
      "Predicciones de Y: \n",
      "0       5.032850\n",
      "1       5.137880\n",
      "2       5.209895\n",
      "3       5.693858\n",
      "4       5.032850\n",
      "          ...   \n",
      "1594    5.529771\n",
      "1595    5.961613\n",
      "1596    5.943043\n",
      "1597    5.470756\n",
      "1598    6.008196\n",
      "Length: 1599, dtype: float64\n",
      "<class 'pandas.core.series.Series'>\n"
     ]
    }
   ],
   "source": [
    "print(f\"Predicciones de Y: \\n{y_pred}\")\n",
    "print(type(y))  # es una serie de pandas"
   ]
  },
  {
   "cell_type": "code",
   "execution_count": 90,
   "metadata": {},
   "outputs": [
    {
     "name": "stdout",
     "output_type": "stream",
     "text": [
      "832     2.689107\n",
      "652     2.474653\n",
      "1276    2.327958\n",
      "1505    2.223015\n",
      "899     2.137879\n",
      "          ...   \n",
      "527     0.003116\n",
      "1358    0.002910\n",
      "1589    0.002056\n",
      "472     0.001186\n",
      "711     0.000730\n",
      "Length: 1599, dtype: float64\n"
     ]
    }
   ],
   "source": [
    "print(abs(y-y_pred).sort_values(ascending = False))"
   ]
  },
  {
   "cell_type": "code",
   "execution_count": null,
   "metadata": {},
   "outputs": [],
   "source": []
  }
 ],
 "metadata": {
  "colab": {
   "provenance": []
  },
  "kernelspec": {
   "display_name": "base",
   "language": "python",
   "name": "python3"
  },
  "language_info": {
   "codemirror_mode": {
    "name": "ipython",
    "version": 3
   },
   "file_extension": ".py",
   "mimetype": "text/x-python",
   "name": "python",
   "nbconvert_exporter": "python",
   "pygments_lexer": "ipython3",
   "version": "3.12.7"
  }
 },
 "nbformat": 4,
 "nbformat_minor": 0
}
